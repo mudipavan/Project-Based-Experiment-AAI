{
  "nbformat": 4,
  "nbformat_minor": 0,
  "metadata": {
    "colab": {
      "provenance": []
    },
    "kernelspec": {
      "name": "python3",
      "display_name": "Python 3"
    },
    "language_info": {
      "name": "python"
    }
  },
  "cells": [
    {
      "cell_type": "code",
      "execution_count": 5,
      "metadata": {
        "colab": {
          "base_uri": "https://localhost:8080/"
        },
        "id": "-8_yqi8nBgZh",
        "outputId": "9da9f5a7-8636-4514-8c76-55636daea8de"
      },
      "outputs": [
        {
          "output_type": "stream",
          "name": "stdout",
          "text": [
            "Sentiment Analysis Results:\n",
            "Positive sentiment: 732\n",
            "Negative sentiment: 83\n",
            "Neutral sentiment: 185\n",
            "Occurrences of 'Pavan': 0\n"
          ]
        }
      ],
      "source": [
        "import pandas as pd\n",
        "from textblob import TextBlob\n",
        "\n",
        "# Read data from CSV file\n",
        "data = pd.read_csv(\"fb_sentiment.csv\")\n",
        "\n",
        "# Given name to count occurrences\n",
        "given_name = \"Pavan\"\n",
        "\n",
        "# Initialize counters for sentiment analysis\n",
        "sentiment_counts = {'positive': 0, 'negative': 0, 'neutral': 0}\n",
        "\n",
        "# Initialize and Count occurrences for the given name\n",
        "name_occurrences = sum(post.lower().count(given_name.lower()) for post in data['FBPost'])\n",
        "\n",
        "# Perform sentiment analysis and count occurrences of the given name\n",
        "for post in data['FBPost']:\n",
        "    polarity = TextBlob(post).sentiment.polarity\n",
        "    sentiment_counts['positive'] += polarity > 0\n",
        "    sentiment_counts['negative'] += polarity < 0\n",
        "    sentiment_counts['neutral'] += polarity == 0\n",
        "\n",
        "# Print sentiment analysis results\n",
        "print(\"Sentiment Analysis Results:\")\n",
        "for sentiment, count in sentiment_counts.items():\n",
        "    print(f\"{sentiment.capitalize()} sentiment: {count}\")\n",
        "\n",
        "# Print occurrences of the given name\n",
        "print(f\"Occurrences of '{given_name}': {name_occurrences}\")\n"
      ]
    }
  ]
}